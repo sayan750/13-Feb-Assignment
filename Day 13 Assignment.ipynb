{
 "cells": [
  {
   "cell_type": "markdown",
   "id": "769db2af",
   "metadata": {},
   "source": [
    "### Q1.\n",
    "\n",
    "**When creating a custom exception in Python, it is recommended to inherit from the built-in Exception class. This is because Exception is the base class for all built-in exceptions in Python, and it provides a consistent interface for handling exceptions in Python programs. By inheriting from the Exception class, your custom exception will automatically inherit all the properties and methods of the base class, such as the ability to set an error message, access the stack trace, and raise the exception.**"
   ]
  },
  {
   "cell_type": "markdown",
   "id": "955baace",
   "metadata": {},
   "source": [
    "### Q2.\n",
    "\n",
    "**I can use the print_exception() function from the traceback module to print the Python Exception Hierarchy. Here is the code:**"
   ]
  },
  {
   "cell_type": "code",
   "execution_count": 2,
   "id": "00b45985",
   "metadata": {},
   "outputs": [
    {
     "name": "stderr",
     "output_type": "stream",
     "text": [
      "Traceback (most recent call last):\n",
      "  File \"C:\\Users\\SAYAN\\AppData\\Local\\Temp\\ipykernel_7888\\539416801.py\", line 5, in <cell line: 3>\n",
      "    x = 1 / 0\n",
      "ZeroDivisionError: division by zero\n"
     ]
    }
   ],
   "source": [
    "import traceback\n",
    "\n",
    "try:\n",
    "    \n",
    "    x = 1 / 0\n",
    "    \n",
    "except Exception as e:\n",
    "    \n",
    "    # Print the exception hierarchy\n",
    "    traceback.print_exception(type(e), e, e.__traceback__)"
   ]
  },
  {
   "cell_type": "markdown",
   "id": "e958bd80",
   "metadata": {},
   "source": [
    "### Q3.\n",
    "\n",
    "**The ArithmeticError class in Python is a built-in class that defines errors that occur during arithmetic operations. Here are two examples of errors defined in the ArithmeticError class:**"
   ]
  },
  {
   "cell_type": "code",
   "execution_count": 3,
   "id": "7058e607",
   "metadata": {},
   "outputs": [
    {
     "name": "stdout",
     "output_type": "stream",
     "text": [
      "division by zero\n"
     ]
    }
   ],
   "source": [
    "## Zerodivisionerror error occurs when a number is divided by zero.\n",
    "\n",
    "try:\n",
    "    10/0\n",
    "except ZeroDivisionError as e:\n",
    "    print(e)"
   ]
  },
  {
   "cell_type": "code",
   "execution_count": 5,
   "id": "67ba22ca",
   "metadata": {},
   "outputs": [
    {
     "name": "stdout",
     "output_type": "stream",
     "text": [
      "division by zero\n"
     ]
    }
   ],
   "source": [
    "## OverflowError occurs when a calculation exceeds the maximum value that can be represented in a numeric type.\n",
    "\n",
    "try:\n",
    "    7/0\n",
    "except ArithmeticError as e:\n",
    "    print(e)"
   ]
  },
  {
   "cell_type": "markdown",
   "id": "3424ceb4",
   "metadata": {},
   "source": [
    "### Q4.\n",
    "\n",
    "**LookupError is a built-in Python exception class that serves as the base class for a number of specific error classes. It is used to indicate that a lookup operation (such as indexing, key lookup, or attribute lookup) has failed, typically because the requested key or index is not found in the relevant data structure.**"
   ]
  },
  {
   "cell_type": "code",
   "execution_count": 9,
   "id": "478205af",
   "metadata": {},
   "outputs": [
    {
     "name": "stdout",
     "output_type": "stream",
     "text": [
      "Not found 'c'\n"
     ]
    }
   ],
   "source": [
    "## KeyError: Raised when a dictionary key is not found in the set of existing keys\n",
    "## Here c value is not found in current data\n",
    "\n",
    "try:\n",
    "    ls = {\"a\" : 1, \"b\" : 2}\n",
    "    ls[\"c\"]\n",
    "except KeyError as e:\n",
    "    print(\"Not found\", e)"
   ]
  },
  {
   "cell_type": "code",
   "execution_count": 11,
   "id": "b4d408a1",
   "metadata": {},
   "outputs": [
    {
     "name": "stdout",
     "output_type": "stream",
     "text": [
      "list index out of range\n"
     ]
    }
   ],
   "source": [
    "## IndexError: Raised when a sequence index is out of range.\n",
    "## Here 10 no value is not available in current data\n",
    "\n",
    "try:\n",
    "    lst = [1,2,3,4,[5,6,7],8,9]\n",
    "    x = lst[10]\n",
    "except IndexError as e:\n",
    "    print(e)"
   ]
  },
  {
   "cell_type": "markdown",
   "id": "bc232f0e",
   "metadata": {},
   "source": [
    "### Q5.\n",
    "\n",
    "**In Python, ImportError is an exception that is raised when a module, package, or object cannot be imported. This can happen for various reasons, such as if the module doesn't exist, if the Python interpreter cannot find the module, or if there is an error in the module that prevents it from being imported.**"
   ]
  },
  {
   "cell_type": "markdown",
   "id": "1bd003f3",
   "metadata": {},
   "source": [
    "**ModuleNotFoundError is a subclass of ImportError, introduced in Python 3.6. It is raised when a module or package is not found during an import operation.**"
   ]
  },
  {
   "cell_type": "markdown",
   "id": "6c258aa5",
   "metadata": {},
   "source": [
    "### Q6.\n",
    "\n",
    "**Catch specific exceptions rather than using a bare except clause that catches all exceptions, as this can make it harder to diagnose and fix issues.**\n",
    "\n",
    "**Use try-except-finally blocks to handle exceptions. The try block contains the code that may raise an exception, the except block handles the exception, and the finally block contains code that should be executed regardless of whether an exception was raised.**\n",
    "\n",
    "**Use try-except-finally blocks to handle exceptions. The try block contains the code that may raise an exception, the except block handles the exception, and the finally block contains code that should be executed regardless of whether an exception was raised.**\n",
    "\n",
    "**Use custom exceptions to make your code more expressive and easier to understand. Custom exceptions should inherit from the built-in Exception class.**\n",
    "\n",
    "**Document the exceptions that your functions may raise in the docstrings. This will help other developers understand how to use your code and what exceptions to expect.**"
   ]
  },
  {
   "cell_type": "code",
   "execution_count": null,
   "id": "19e9fde1",
   "metadata": {},
   "outputs": [],
   "source": []
  },
  {
   "cell_type": "code",
   "execution_count": null,
   "id": "01101c48",
   "metadata": {},
   "outputs": [],
   "source": []
  },
  {
   "cell_type": "code",
   "execution_count": null,
   "id": "9b40319a",
   "metadata": {},
   "outputs": [],
   "source": []
  }
 ],
 "metadata": {
  "kernelspec": {
   "display_name": "Python 3 (ipykernel)",
   "language": "python",
   "name": "python3"
  },
  "language_info": {
   "codemirror_mode": {
    "name": "ipython",
    "version": 3
   },
   "file_extension": ".py",
   "mimetype": "text/x-python",
   "name": "python",
   "nbconvert_exporter": "python",
   "pygments_lexer": "ipython3",
   "version": "3.9.12"
  }
 },
 "nbformat": 4,
 "nbformat_minor": 5
}
